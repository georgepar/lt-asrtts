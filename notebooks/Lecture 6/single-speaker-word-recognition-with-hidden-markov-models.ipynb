{
  "cells": [
    {
      "cell_type": "markdown",
      "metadata": {
        "id": "SuxEBw5vVl5_"
      },
      "source": [
        "Hidden Markov Models (HMMs) are powerful, flexible methods for representing and classifying data with trends over time, and have been a key component in speech recognition systems for many years.\n",
        "\n",
        "I found it very difficult to find a good example (with code) of a simple speech recognition system, so I decided to create this post. Though this implementation won't win any awards for \"Best Speech Recognizer\", I hope it will provide some insight into how HMMs can be used for speech recognition and other tasks.\n",
        "<!-- TEASER_END -->\n",
        "\n",
        "In this post, I will define what Hidden Markov Models are, show how to implement one form (Gaussian Mixture Model HMM, GMM-HMM) using numpy + scipy, and how to use this algorithm for single speaker speech recognition. For a more \"production grade\" HMM implementation, see [hmmlearn](https://github.com/hmmlearn/hmmlearn) which holds the HMM implementations that were formerly a part of [sklearn](http://scikit-learn.org/stable/)."
      ]
    },
    {
      "cell_type": "markdown",
      "metadata": {
        "id": "_wZ8GDcxVl6D"
      },
      "source": [
        "Data\n",
        "----\n",
        "\n",
        "To demonstrate this algorithm, we need a dataset to operate on. I have chosen to use the sample dataset from [this Google Code project by Hakon Sandsmark](https://code.google.com/p/hmm-speech-recognition/downloads/list). I also used this code as a reference when creating my own implementation of a Guassian Mixture Model HMM (GMM-HMM). This aided in testing my implementation, as well as giving a frame of reference for performance.\n",
        "\n",
        "Other available datasets are largely multispeaker, but the simple frequency peak features used in this example do not work in the multispeaker regime (different speakers have different frequency content for the same word! Let alone male/female speech differences). Future work will cover more advanced feature extraction techniques for audio, and extend these examples to multispeaker recognition."
      ]
    },
    {
      "cell_type": "code",
      "execution_count": 3,
      "metadata": {
        "collapsed": true,
        "id": "oiZjmAiqVl6E"
      },
      "outputs": [],
      "source": [
        "import numpy as np\n",
        "import matplotlib.pyplot as plt\n",
        "%matplotlib inline"
      ]
    },
    {
      "cell_type": "code",
      "source": [
        "!wget https://storage.googleapis.com/google-code-archive-downloads/v2/code.google.com/hmm-speech-recognition/hmm-speech-recognition-0.1.zip\n",
        "!unzip hmm-speech-recognition-0.1.zip\n",
        "!mv hmm-speech-recognition-0.1/audio ."
      ],
      "metadata": {
        "id": "UcEr0YsJWYGy",
        "outputId": "2a633856-3418-4180-bc03-634a835639c0",
        "colab": {
          "base_uri": "https://localhost:8080/"
        }
      },
      "execution_count": 5,
      "outputs": [
        {
          "output_type": "stream",
          "name": "stdout",
          "text": [
            "--2024-03-08 23:18:10--  https://storage.googleapis.com/google-code-archive-downloads/v2/code.google.com/hmm-speech-recognition/hmm-speech-recognition-0.1.zip\n",
            "Resolving storage.googleapis.com (storage.googleapis.com)... 142.251.179.207, 142.251.163.207, 142.251.167.207, ...\n",
            "Connecting to storage.googleapis.com (storage.googleapis.com)|142.251.179.207|:443... connected.\n",
            "HTTP request sent, awaiting response... 200 OK\n",
            "Length: 856703 (837K) [application/octet-stream]\n",
            "Saving to: ‘hmm-speech-recognition-0.1.zip’\n",
            "\n",
            "\r          hmm-speec   0%[                    ]       0  --.-KB/s               \rhmm-speech-recognit 100%[===================>] 836.62K  --.-KB/s    in 0.009s  \n",
            "\n",
            "2024-03-08 23:18:11 (87.8 MB/s) - ‘hmm-speech-recognition-0.1.zip’ saved [856703/856703]\n",
            "\n",
            "Archive:  hmm-speech-recognition-0.1.zip\n",
            "   creating: hmm-speech-recognition-0.1/\n",
            "   creating: hmm-speech-recognition-0.1/audio/\n",
            "   creating: hmm-speech-recognition-0.1/audio/apple/\n",
            "  inflating: hmm-speech-recognition-0.1/audio/apple/apple01.wav  \n",
            "   creating: __MACOSX/\n",
            "   creating: __MACOSX/hmm-speech-recognition-0.1/\n",
            "   creating: __MACOSX/hmm-speech-recognition-0.1/audio/\n",
            "   creating: __MACOSX/hmm-speech-recognition-0.1/audio/apple/\n",
            "  inflating: __MACOSX/hmm-speech-recognition-0.1/audio/apple/._apple01.wav  \n",
            "  inflating: hmm-speech-recognition-0.1/audio/apple/apple02.wav  \n",
            "  inflating: __MACOSX/hmm-speech-recognition-0.1/audio/apple/._apple02.wav  \n",
            "  inflating: hmm-speech-recognition-0.1/audio/apple/apple03.wav  \n",
            "  inflating: __MACOSX/hmm-speech-recognition-0.1/audio/apple/._apple03.wav  \n",
            "  inflating: hmm-speech-recognition-0.1/audio/apple/apple04.wav  \n",
            "  inflating: __MACOSX/hmm-speech-recognition-0.1/audio/apple/._apple04.wav  \n",
            "  inflating: hmm-speech-recognition-0.1/audio/apple/apple05.wav  \n",
            "  inflating: __MACOSX/hmm-speech-recognition-0.1/audio/apple/._apple05.wav  \n",
            "  inflating: hmm-speech-recognition-0.1/audio/apple/apple06.wav  \n",
            "  inflating: __MACOSX/hmm-speech-recognition-0.1/audio/apple/._apple06.wav  \n",
            "  inflating: hmm-speech-recognition-0.1/audio/apple/apple07.wav  \n",
            "  inflating: __MACOSX/hmm-speech-recognition-0.1/audio/apple/._apple07.wav  \n",
            "  inflating: hmm-speech-recognition-0.1/audio/apple/apple08.wav  \n",
            "  inflating: __MACOSX/hmm-speech-recognition-0.1/audio/apple/._apple08.wav  \n",
            "  inflating: hmm-speech-recognition-0.1/audio/apple/apple09.wav  \n",
            "  inflating: __MACOSX/hmm-speech-recognition-0.1/audio/apple/._apple09.wav  \n",
            "  inflating: hmm-speech-recognition-0.1/audio/apple/apple10.wav  \n",
            "  inflating: __MACOSX/hmm-speech-recognition-0.1/audio/apple/._apple10.wav  \n",
            "  inflating: hmm-speech-recognition-0.1/audio/apple/apple11.wav  \n",
            "  inflating: __MACOSX/hmm-speech-recognition-0.1/audio/apple/._apple11.wav  \n",
            "  inflating: hmm-speech-recognition-0.1/audio/apple/apple12.wav  \n",
            "  inflating: __MACOSX/hmm-speech-recognition-0.1/audio/apple/._apple12.wav  \n",
            "  inflating: hmm-speech-recognition-0.1/audio/apple/apple13.wav  \n",
            "  inflating: __MACOSX/hmm-speech-recognition-0.1/audio/apple/._apple13.wav  \n",
            "  inflating: hmm-speech-recognition-0.1/audio/apple/apple14.wav  \n",
            "  inflating: __MACOSX/hmm-speech-recognition-0.1/audio/apple/._apple14.wav  \n",
            "  inflating: hmm-speech-recognition-0.1/audio/apple/apple15.wav  \n",
            "  inflating: __MACOSX/hmm-speech-recognition-0.1/audio/apple/._apple15.wav  \n",
            "   creating: hmm-speech-recognition-0.1/audio/banana/\n",
            "  inflating: hmm-speech-recognition-0.1/audio/banana/banana01.wav  \n",
            "   creating: __MACOSX/hmm-speech-recognition-0.1/audio/banana/\n",
            "  inflating: __MACOSX/hmm-speech-recognition-0.1/audio/banana/._banana01.wav  \n",
            "  inflating: hmm-speech-recognition-0.1/audio/banana/banana02.wav  \n",
            "  inflating: __MACOSX/hmm-speech-recognition-0.1/audio/banana/._banana02.wav  \n",
            "  inflating: hmm-speech-recognition-0.1/audio/banana/banana03.wav  \n",
            "  inflating: __MACOSX/hmm-speech-recognition-0.1/audio/banana/._banana03.wav  \n",
            "  inflating: hmm-speech-recognition-0.1/audio/banana/banana04.wav  \n",
            "  inflating: __MACOSX/hmm-speech-recognition-0.1/audio/banana/._banana04.wav  \n",
            "  inflating: hmm-speech-recognition-0.1/audio/banana/banana05.wav  \n",
            "  inflating: __MACOSX/hmm-speech-recognition-0.1/audio/banana/._banana05.wav  \n",
            "  inflating: hmm-speech-recognition-0.1/audio/banana/banana06.wav  \n",
            "  inflating: __MACOSX/hmm-speech-recognition-0.1/audio/banana/._banana06.wav  \n",
            "  inflating: hmm-speech-recognition-0.1/audio/banana/banana07.wav  \n",
            "  inflating: __MACOSX/hmm-speech-recognition-0.1/audio/banana/._banana07.wav  \n",
            "  inflating: hmm-speech-recognition-0.1/audio/banana/banana08.wav  \n",
            "  inflating: __MACOSX/hmm-speech-recognition-0.1/audio/banana/._banana08.wav  \n",
            "  inflating: hmm-speech-recognition-0.1/audio/banana/banana09.wav  \n",
            "  inflating: __MACOSX/hmm-speech-recognition-0.1/audio/banana/._banana09.wav  \n",
            "  inflating: hmm-speech-recognition-0.1/audio/banana/banana10.wav  \n",
            "  inflating: __MACOSX/hmm-speech-recognition-0.1/audio/banana/._banana10.wav  \n",
            "  inflating: hmm-speech-recognition-0.1/audio/banana/banana11.wav  \n",
            "  inflating: __MACOSX/hmm-speech-recognition-0.1/audio/banana/._banana11.wav  \n",
            "  inflating: hmm-speech-recognition-0.1/audio/banana/banana12.wav  \n",
            "  inflating: __MACOSX/hmm-speech-recognition-0.1/audio/banana/._banana12.wav  \n",
            "  inflating: hmm-speech-recognition-0.1/audio/banana/banana13.wav  \n",
            "  inflating: __MACOSX/hmm-speech-recognition-0.1/audio/banana/._banana13.wav  \n",
            "  inflating: hmm-speech-recognition-0.1/audio/banana/banana14.wav  \n",
            "  inflating: __MACOSX/hmm-speech-recognition-0.1/audio/banana/._banana14.wav  \n",
            "  inflating: hmm-speech-recognition-0.1/audio/banana/banana15.wav  \n",
            "  inflating: __MACOSX/hmm-speech-recognition-0.1/audio/banana/._banana15.wav  \n",
            "   creating: hmm-speech-recognition-0.1/audio/kiwi/\n",
            "  inflating: hmm-speech-recognition-0.1/audio/kiwi/kiwi01.wav  \n",
            "   creating: __MACOSX/hmm-speech-recognition-0.1/audio/kiwi/\n",
            "  inflating: __MACOSX/hmm-speech-recognition-0.1/audio/kiwi/._kiwi01.wav  \n",
            "  inflating: hmm-speech-recognition-0.1/audio/kiwi/kiwi02.wav  \n",
            "  inflating: __MACOSX/hmm-speech-recognition-0.1/audio/kiwi/._kiwi02.wav  \n",
            "  inflating: hmm-speech-recognition-0.1/audio/kiwi/kiwi03.wav  \n",
            "  inflating: __MACOSX/hmm-speech-recognition-0.1/audio/kiwi/._kiwi03.wav  \n",
            "  inflating: hmm-speech-recognition-0.1/audio/kiwi/kiwi04.wav  \n",
            "  inflating: __MACOSX/hmm-speech-recognition-0.1/audio/kiwi/._kiwi04.wav  \n",
            "  inflating: hmm-speech-recognition-0.1/audio/kiwi/kiwi05.wav  \n",
            "  inflating: __MACOSX/hmm-speech-recognition-0.1/audio/kiwi/._kiwi05.wav  \n",
            "  inflating: hmm-speech-recognition-0.1/audio/kiwi/kiwi06.wav  \n",
            "  inflating: __MACOSX/hmm-speech-recognition-0.1/audio/kiwi/._kiwi06.wav  \n",
            "  inflating: hmm-speech-recognition-0.1/audio/kiwi/kiwi07.wav  \n",
            "  inflating: __MACOSX/hmm-speech-recognition-0.1/audio/kiwi/._kiwi07.wav  \n",
            "  inflating: hmm-speech-recognition-0.1/audio/kiwi/kiwi08.wav  \n",
            "  inflating: __MACOSX/hmm-speech-recognition-0.1/audio/kiwi/._kiwi08.wav  \n",
            "  inflating: hmm-speech-recognition-0.1/audio/kiwi/kiwi09.wav  \n",
            "  inflating: __MACOSX/hmm-speech-recognition-0.1/audio/kiwi/._kiwi09.wav  \n",
            "  inflating: hmm-speech-recognition-0.1/audio/kiwi/kiwi10.wav  \n",
            "  inflating: __MACOSX/hmm-speech-recognition-0.1/audio/kiwi/._kiwi10.wav  \n",
            "  inflating: hmm-speech-recognition-0.1/audio/kiwi/kiwi11.wav  \n",
            "  inflating: __MACOSX/hmm-speech-recognition-0.1/audio/kiwi/._kiwi11.wav  \n",
            "  inflating: hmm-speech-recognition-0.1/audio/kiwi/kiwi12.wav  \n",
            "  inflating: __MACOSX/hmm-speech-recognition-0.1/audio/kiwi/._kiwi12.wav  \n",
            "  inflating: hmm-speech-recognition-0.1/audio/kiwi/kiwi13.wav  \n",
            "  inflating: __MACOSX/hmm-speech-recognition-0.1/audio/kiwi/._kiwi13.wav  \n",
            "  inflating: hmm-speech-recognition-0.1/audio/kiwi/kiwi14.wav  \n",
            "  inflating: __MACOSX/hmm-speech-recognition-0.1/audio/kiwi/._kiwi14.wav  \n",
            "  inflating: hmm-speech-recognition-0.1/audio/kiwi/kiwi15.wav  \n",
            "  inflating: __MACOSX/hmm-speech-recognition-0.1/audio/kiwi/._kiwi15.wav  \n",
            "   creating: hmm-speech-recognition-0.1/audio/lime/\n",
            "  inflating: hmm-speech-recognition-0.1/audio/lime/lime01.wav  \n",
            "   creating: __MACOSX/hmm-speech-recognition-0.1/audio/lime/\n",
            "  inflating: __MACOSX/hmm-speech-recognition-0.1/audio/lime/._lime01.wav  \n",
            "  inflating: hmm-speech-recognition-0.1/audio/lime/lime02.wav  \n",
            "  inflating: __MACOSX/hmm-speech-recognition-0.1/audio/lime/._lime02.wav  \n",
            "  inflating: hmm-speech-recognition-0.1/audio/lime/lime03.wav  \n",
            "  inflating: __MACOSX/hmm-speech-recognition-0.1/audio/lime/._lime03.wav  \n",
            "  inflating: hmm-speech-recognition-0.1/audio/lime/lime04.wav  \n",
            "  inflating: __MACOSX/hmm-speech-recognition-0.1/audio/lime/._lime04.wav  \n",
            "  inflating: hmm-speech-recognition-0.1/audio/lime/lime05.wav  \n",
            "  inflating: __MACOSX/hmm-speech-recognition-0.1/audio/lime/._lime05.wav  \n",
            "  inflating: hmm-speech-recognition-0.1/audio/lime/lime06.wav  \n",
            "  inflating: __MACOSX/hmm-speech-recognition-0.1/audio/lime/._lime06.wav  \n",
            "  inflating: hmm-speech-recognition-0.1/audio/lime/lime07.wav  \n",
            "  inflating: __MACOSX/hmm-speech-recognition-0.1/audio/lime/._lime07.wav  \n",
            "  inflating: hmm-speech-recognition-0.1/audio/lime/lime08.wav  \n",
            "  inflating: __MACOSX/hmm-speech-recognition-0.1/audio/lime/._lime08.wav  \n",
            "  inflating: hmm-speech-recognition-0.1/audio/lime/lime09.wav  \n",
            "  inflating: __MACOSX/hmm-speech-recognition-0.1/audio/lime/._lime09.wav  \n",
            "  inflating: hmm-speech-recognition-0.1/audio/lime/lime10.wav  \n",
            "  inflating: __MACOSX/hmm-speech-recognition-0.1/audio/lime/._lime10.wav  \n",
            "  inflating: hmm-speech-recognition-0.1/audio/lime/lime11.wav  \n",
            "  inflating: __MACOSX/hmm-speech-recognition-0.1/audio/lime/._lime11.wav  \n",
            "  inflating: hmm-speech-recognition-0.1/audio/lime/lime12.wav  \n",
            "  inflating: __MACOSX/hmm-speech-recognition-0.1/audio/lime/._lime12.wav  \n",
            "  inflating: hmm-speech-recognition-0.1/audio/lime/lime13.wav  \n",
            "  inflating: __MACOSX/hmm-speech-recognition-0.1/audio/lime/._lime13.wav  \n",
            "  inflating: hmm-speech-recognition-0.1/audio/lime/lime14.wav  \n",
            "  inflating: __MACOSX/hmm-speech-recognition-0.1/audio/lime/._lime14.wav  \n",
            "  inflating: hmm-speech-recognition-0.1/audio/lime/lime15.wav  \n",
            "  inflating: __MACOSX/hmm-speech-recognition-0.1/audio/lime/._lime15.wav  \n",
            "   creating: hmm-speech-recognition-0.1/audio/orange/\n",
            "  inflating: hmm-speech-recognition-0.1/audio/orange/orange01.wav  \n",
            "   creating: __MACOSX/hmm-speech-recognition-0.1/audio/orange/\n",
            "  inflating: __MACOSX/hmm-speech-recognition-0.1/audio/orange/._orange01.wav  \n",
            "  inflating: hmm-speech-recognition-0.1/audio/orange/orange02.wav  \n",
            "  inflating: __MACOSX/hmm-speech-recognition-0.1/audio/orange/._orange02.wav  \n",
            "  inflating: hmm-speech-recognition-0.1/audio/orange/orange03.wav  \n",
            "  inflating: __MACOSX/hmm-speech-recognition-0.1/audio/orange/._orange03.wav  \n",
            "  inflating: hmm-speech-recognition-0.1/audio/orange/orange04.wav  \n",
            "  inflating: __MACOSX/hmm-speech-recognition-0.1/audio/orange/._orange04.wav  \n",
            "  inflating: hmm-speech-recognition-0.1/audio/orange/orange05.wav  \n",
            "  inflating: __MACOSX/hmm-speech-recognition-0.1/audio/orange/._orange05.wav  \n",
            "  inflating: hmm-speech-recognition-0.1/audio/orange/orange06.wav  \n",
            "  inflating: __MACOSX/hmm-speech-recognition-0.1/audio/orange/._orange06.wav  \n",
            "  inflating: hmm-speech-recognition-0.1/audio/orange/orange07.wav  \n",
            "  inflating: __MACOSX/hmm-speech-recognition-0.1/audio/orange/._orange07.wav  \n",
            "  inflating: hmm-speech-recognition-0.1/audio/orange/orange08.wav  \n",
            "  inflating: __MACOSX/hmm-speech-recognition-0.1/audio/orange/._orange08.wav  \n",
            "  inflating: hmm-speech-recognition-0.1/audio/orange/orange09.wav  \n",
            "  inflating: __MACOSX/hmm-speech-recognition-0.1/audio/orange/._orange09.wav  \n",
            "  inflating: hmm-speech-recognition-0.1/audio/orange/orange10.wav  \n",
            "  inflating: __MACOSX/hmm-speech-recognition-0.1/audio/orange/._orange10.wav  \n",
            "  inflating: hmm-speech-recognition-0.1/audio/orange/orange11.wav  \n",
            "  inflating: __MACOSX/hmm-speech-recognition-0.1/audio/orange/._orange11.wav  \n",
            "  inflating: hmm-speech-recognition-0.1/audio/orange/orange12.wav  \n",
            "  inflating: __MACOSX/hmm-speech-recognition-0.1/audio/orange/._orange12.wav  \n",
            "  inflating: hmm-speech-recognition-0.1/audio/orange/orange13.wav  \n",
            "  inflating: __MACOSX/hmm-speech-recognition-0.1/audio/orange/._orange13.wav  \n",
            "  inflating: hmm-speech-recognition-0.1/audio/orange/orange14.wav  \n",
            "  inflating: __MACOSX/hmm-speech-recognition-0.1/audio/orange/._orange14.wav  \n",
            "  inflating: hmm-speech-recognition-0.1/audio/orange/orange15.wav  \n",
            "  inflating: __MACOSX/hmm-speech-recognition-0.1/audio/orange/._orange15.wav  \n",
            "   creating: hmm-speech-recognition-0.1/audio/peach/\n",
            "  inflating: hmm-speech-recognition-0.1/audio/peach/peach01.wav  \n",
            "   creating: __MACOSX/hmm-speech-recognition-0.1/audio/peach/\n",
            "  inflating: __MACOSX/hmm-speech-recognition-0.1/audio/peach/._peach01.wav  \n",
            "  inflating: hmm-speech-recognition-0.1/audio/peach/peach02.wav  \n",
            "  inflating: __MACOSX/hmm-speech-recognition-0.1/audio/peach/._peach02.wav  \n",
            "  inflating: hmm-speech-recognition-0.1/audio/peach/peach03.wav  \n",
            "  inflating: __MACOSX/hmm-speech-recognition-0.1/audio/peach/._peach03.wav  \n",
            "  inflating: hmm-speech-recognition-0.1/audio/peach/peach04.wav  \n",
            "  inflating: __MACOSX/hmm-speech-recognition-0.1/audio/peach/._peach04.wav  \n",
            "  inflating: hmm-speech-recognition-0.1/audio/peach/peach05.wav  \n",
            "  inflating: __MACOSX/hmm-speech-recognition-0.1/audio/peach/._peach05.wav  \n",
            "  inflating: hmm-speech-recognition-0.1/audio/peach/peach06.wav  \n",
            "  inflating: __MACOSX/hmm-speech-recognition-0.1/audio/peach/._peach06.wav  \n",
            "  inflating: hmm-speech-recognition-0.1/audio/peach/peach07.wav  \n",
            "  inflating: __MACOSX/hmm-speech-recognition-0.1/audio/peach/._peach07.wav  \n",
            "  inflating: hmm-speech-recognition-0.1/audio/peach/peach08.wav  \n",
            "  inflating: __MACOSX/hmm-speech-recognition-0.1/audio/peach/._peach08.wav  \n",
            "  inflating: hmm-speech-recognition-0.1/audio/peach/peach09.wav  \n",
            "  inflating: __MACOSX/hmm-speech-recognition-0.1/audio/peach/._peach09.wav  \n",
            "  inflating: hmm-speech-recognition-0.1/audio/peach/peach10.wav  \n",
            "  inflating: __MACOSX/hmm-speech-recognition-0.1/audio/peach/._peach10.wav  \n",
            "  inflating: hmm-speech-recognition-0.1/audio/peach/peach11.wav  \n",
            "  inflating: __MACOSX/hmm-speech-recognition-0.1/audio/peach/._peach11.wav  \n",
            "  inflating: hmm-speech-recognition-0.1/audio/peach/peach12.wav  \n",
            "  inflating: __MACOSX/hmm-speech-recognition-0.1/audio/peach/._peach12.wav  \n",
            "  inflating: hmm-speech-recognition-0.1/audio/peach/peach13.wav  \n",
            "  inflating: __MACOSX/hmm-speech-recognition-0.1/audio/peach/._peach13.wav  \n",
            "  inflating: hmm-speech-recognition-0.1/audio/peach/peach14.wav  \n",
            "  inflating: __MACOSX/hmm-speech-recognition-0.1/audio/peach/._peach14.wav  \n",
            "  inflating: hmm-speech-recognition-0.1/audio/peach/peach15.wav  \n",
            "  inflating: __MACOSX/hmm-speech-recognition-0.1/audio/peach/._peach15.wav  \n",
            "   creating: hmm-speech-recognition-0.1/audio/pineapple/\n",
            "  inflating: hmm-speech-recognition-0.1/audio/pineapple/pineapple01.wav  \n",
            "   creating: __MACOSX/hmm-speech-recognition-0.1/audio/pineapple/\n",
            "  inflating: __MACOSX/hmm-speech-recognition-0.1/audio/pineapple/._pineapple01.wav  \n",
            "  inflating: hmm-speech-recognition-0.1/audio/pineapple/pineapple02.wav  \n",
            "  inflating: __MACOSX/hmm-speech-recognition-0.1/audio/pineapple/._pineapple02.wav  \n",
            "  inflating: hmm-speech-recognition-0.1/audio/pineapple/pineapple03.wav  \n",
            "  inflating: __MACOSX/hmm-speech-recognition-0.1/audio/pineapple/._pineapple03.wav  \n",
            "  inflating: hmm-speech-recognition-0.1/audio/pineapple/pineapple04.wav  \n",
            "  inflating: __MACOSX/hmm-speech-recognition-0.1/audio/pineapple/._pineapple04.wav  \n",
            "  inflating: hmm-speech-recognition-0.1/audio/pineapple/pineapple05.wav  \n",
            "  inflating: __MACOSX/hmm-speech-recognition-0.1/audio/pineapple/._pineapple05.wav  \n",
            "  inflating: hmm-speech-recognition-0.1/audio/pineapple/pineapple06.wav  \n",
            "  inflating: __MACOSX/hmm-speech-recognition-0.1/audio/pineapple/._pineapple06.wav  \n",
            "  inflating: hmm-speech-recognition-0.1/audio/pineapple/pineapple07.wav  \n",
            "  inflating: __MACOSX/hmm-speech-recognition-0.1/audio/pineapple/._pineapple07.wav  \n",
            "  inflating: hmm-speech-recognition-0.1/audio/pineapple/pineapple08.wav  \n",
            "  inflating: __MACOSX/hmm-speech-recognition-0.1/audio/pineapple/._pineapple08.wav  \n",
            "  inflating: hmm-speech-recognition-0.1/audio/pineapple/pineapple09.wav  \n",
            "  inflating: __MACOSX/hmm-speech-recognition-0.1/audio/pineapple/._pineapple09.wav  \n",
            "  inflating: hmm-speech-recognition-0.1/audio/pineapple/pineapple10.wav  \n",
            "  inflating: __MACOSX/hmm-speech-recognition-0.1/audio/pineapple/._pineapple10.wav  \n",
            "  inflating: hmm-speech-recognition-0.1/audio/pineapple/pineapple11.wav  \n",
            "  inflating: __MACOSX/hmm-speech-recognition-0.1/audio/pineapple/._pineapple11.wav  \n",
            "  inflating: hmm-speech-recognition-0.1/audio/pineapple/pineapple12.wav  \n",
            "  inflating: __MACOSX/hmm-speech-recognition-0.1/audio/pineapple/._pineapple12.wav  \n",
            "  inflating: hmm-speech-recognition-0.1/audio/pineapple/pineapple13.wav  \n",
            "  inflating: __MACOSX/hmm-speech-recognition-0.1/audio/pineapple/._pineapple13.wav  \n",
            "  inflating: hmm-speech-recognition-0.1/audio/pineapple/pineapple14.wav  \n",
            "  inflating: __MACOSX/hmm-speech-recognition-0.1/audio/pineapple/._pineapple14.wav  \n",
            "  inflating: hmm-speech-recognition-0.1/audio/pineapple/pineapple15.wav  \n",
            "  inflating: __MACOSX/hmm-speech-recognition-0.1/audio/pineapple/._pineapple15.wav  \n",
            "  inflating: hmm-speech-recognition-0.1/error_ellipse.m  \n",
            "  inflating: __MACOSX/hmm-speech-recognition-0.1/._error_ellipse.m  \n",
            "  inflating: hmm-speech-recognition-0.1/extract_features.m  \n",
            "  inflating: __MACOSX/hmm-speech-recognition-0.1/._extract_features.m  \n",
            "  inflating: hmm-speech-recognition-0.1/load_audio_from_folder.m  \n",
            "  inflating: __MACOSX/hmm-speech-recognition-0.1/._load_audio_from_folder.m  \n",
            "  inflating: hmm-speech-recognition-0.1/main.m  \n",
            "  inflating: __MACOSX/hmm-speech-recognition-0.1/._main.m  \n",
            "  inflating: hmm-speech-recognition-0.1/mk_stochastic.m  \n",
            "  inflating: __MACOSX/hmm-speech-recognition-0.1/._mk_stochastic.m  \n",
            "  inflating: hmm-speech-recognition-0.1/normalise.m  \n",
            "  inflating: __MACOSX/hmm-speech-recognition-0.1/._normalise.m  \n",
            "  inflating: hmm-speech-recognition-0.1/symmetrize.m  \n",
            "  inflating: __MACOSX/hmm-speech-recognition-0.1/._symmetrize.m  \n",
            "  inflating: hmm-speech-recognition-0.1/Vocabulary.m  \n",
            "  inflating: __MACOSX/hmm-speech-recognition-0.1/._Vocabulary.m  \n",
            "  inflating: hmm-speech-recognition-0.1/Word.m  \n",
            "  inflating: __MACOSX/hmm-speech-recognition-0.1/._Word.m  \n"
          ]
        }
      ]
    },
    {
      "cell_type": "code",
      "execution_count": 7,
      "metadata": {
        "id": "NyPtJvkDVl6G",
        "outputId": "5cb8d1b0-b435-4c6d-8a99-2fcaae233641",
        "colab": {
          "base_uri": "https://localhost:8080/"
        }
      },
      "outputs": [
        {
          "output_type": "stream",
          "name": "stdout",
          "text": [
            "Words spoken: ['kiwi', 'apple', 'lime', 'banana', 'peach', 'pineapple', 'orange']\n"
          ]
        }
      ],
      "source": [
        "import os\n",
        "\n",
        "fpaths = []\n",
        "labels = []\n",
        "spoken = []\n",
        "for f in os.listdir('audio'):\n",
        "    for w in os.listdir('audio/' + f):\n",
        "        fpaths.append('audio/' + f + '/' + w)\n",
        "        labels.append(f)\n",
        "        if f not in spoken:\n",
        "            spoken.append(f)\n",
        "print('Words spoken:', spoken)"
      ]
    },
    {
      "cell_type": "markdown",
      "metadata": {
        "id": "fbuGXRreVl6G"
      },
      "source": [
        "This data has a total of 7 different spoken words, and each was spoken 15 different times, giving a grand total of 105 files. Next, the files will be extracted into a single data matrix (zero padding files to uniform length), and a label vector with the correct label for each data file is created."
      ]
    },
    {
      "cell_type": "code",
      "execution_count": 8,
      "metadata": {
        "id": "hpPG8b7jVl6G",
        "outputId": "bfc4b762-b99b-4f6d-a46b-8191deb78725",
        "colab": {
          "base_uri": "https://localhost:8080/"
        }
      },
      "outputs": [
        {
          "output_type": "stream",
          "name": "stdout",
          "text": [
            "Number of files total: 105\n",
            "Labels and label indices [2. 2. 2. 2. 2. 2. 2. 2. 2. 2. 2. 2. 2. 2. 2. 0. 0. 0. 0. 0. 0. 0. 0. 0.\n",
            " 0. 0. 0. 0. 0. 0. 3. 3. 3. 3. 3. 3. 3. 3. 3. 3. 3. 3. 3. 3. 3. 6. 6. 6.\n",
            " 6. 6. 6. 6. 6. 6. 6. 6. 6. 6. 6. 6. 1. 1. 1. 1. 1. 1. 1. 1. 1. 1. 1. 1.\n",
            " 1. 1. 1. 5. 5. 5. 5. 5. 5. 5. 5. 5. 5. 5. 5. 5. 5. 5. 4. 4. 4. 4. 4. 4.\n",
            " 4. 4. 4. 4. 4. 4. 4. 4. 4.]\n"
          ]
        }
      ],
      "source": [
        "#Files can be heard in Linux using the following commands from the command line\n",
        "#cat kiwi07.wav | aplay -f S16_LE -t wav -r 8000\n",
        "#Files are signed 16 bit raw, sample rate 8000\n",
        "from scipy.io import wavfile\n",
        "\n",
        "data = np.zeros((len(fpaths), 32000))\n",
        "maxsize = -1\n",
        "for n,file in enumerate(fpaths):\n",
        "    _, d = wavfile.read(file)\n",
        "    data[n, :d.shape[0]] = d\n",
        "    if d.shape[0] > maxsize:\n",
        "        maxsize = d.shape[0]\n",
        "data = data[:, :maxsize]\n",
        "\n",
        "#Each sample file is one row in data, and has one entry in labels\n",
        "print('Number of files total:', data.shape[0])\n",
        "all_labels = np.zeros(data.shape[0])\n",
        "for n, l in enumerate(set(labels)):\n",
        "    all_labels[np.array([i for i, _ in enumerate(labels) if _ == l])] = n\n",
        "\n",
        "print('Labels and label indices', all_labels)"
      ]
    },
    {
      "cell_type": "markdown",
      "metadata": {
        "id": "RIaAtqOxVl6H"
      },
      "source": [
        "Science Fiction (Double Feature)\n",
        "--------------------------------\n",
        "\n",
        "Once the data has been downloaded and turned into an input matrix, the next step is to extract features from the raw data, as is done in many other machine learning pipelines.\n",
        "\n",
        "Most \"consumer grade\" speaker recognition systems use advanced processing to extract a variety of features that describe the sound over both frequency and time, and until recently \"custom features\" were one of the keys to making a great recognition system. The current state of the art (to my knowledge, at least) has recently moved to using deep neural networks for feature extraction, which I hope to show in a future post. For now, we will stick to very simple features, in order to show a \"simplest working example\".\n",
        "\n",
        "In this example, simple frequency peak detection was used, rather than the bevy of expert features typically used in a modern speech recognition pipeline (MFCCs, or more recently, a pretrained multilayer neural network). This has a direct effect on performance, but allows for a holistic implementation that fits in a single post :)"
      ]
    },
    {
      "cell_type": "code",
      "execution_count": 9,
      "metadata": {
        "id": "s1rQ-JtHVl6H"
      },
      "outputs": [],
      "source": [
        "import scipy\n",
        "\n",
        "def stft(x, fftsize=64, overlap_pct=.5):\n",
        "    #Modified from http://stackoverflow.com/questions/2459295/stft-and-istft-in-python\n",
        "    hop = int(fftsize * (1 - overlap_pct))\n",
        "    w = scipy.hanning(fftsize + 1)[:-1]\n",
        "    raw = np.array([np.fft.rfft(w * x[i:i + fftsize]) for i in range(0, len(x) - fftsize, hop)])\n",
        "    return raw[:, :(fftsize // 2)]"
      ]
    },
    {
      "cell_type": "markdown",
      "metadata": {
        "id": "8PJbo6YHVl6H"
      },
      "source": [
        "In order to find peaks in frequency, a technique called the Short Time Fourier Transform (STFT) is used. This idea is quite simple - the FFT is applied over chunks of the input data, resulting in a 2D FFT \"image\", usually called the spectrogram. Setting the FFT size allows us to control the amount of frequency resolution available, while overlapping these windows allows us to control the time resolution at the cost of increasing the data size.\n",
        "\n",
        "Briefly, if X is a vector of length 20, we wish to create a 2D array, STFT_X. If the FFT size is 10, and the overlap is .5 (5 samples), this means (in pseudocode):\n",
        "\n",
        "```\n",
        "STFT_X[0, :] = FFT(X[0:9])\n",
        "\n",
        "STFT_X[1, :] = FFT(X[5:14])\n",
        "\n",
        "STFT_X[2, :] = FFT(X[10:19])\n",
        "```\n",
        "\n",
        "We then have 3 FFT frames which have been extracted from the input sample X. For our feature extraction, we would next find peaks in each row of STFT_X.\n",
        "\n",
        "The STFT is usually a crucial element of most DSP pipelines, and highly efficient routines are available to compute this (see [FFTW](http://www.fftw.org/), which numpy wraps). Though I have implemented my own STFT here, it is also possible to use matplotlib's [specgram function](http://matplotlib.org/api/mlab_api.html#matplotlib.mlab.specgram) instead."
      ]
    },
    {
      "cell_type": "code",
      "execution_count": 10,
      "metadata": {
        "id": "wtVz5v2JVl6I",
        "outputId": "78fa5a3e-0869-4cce-ab1b-07021e69714f",
        "colab": {
          "base_uri": "https://localhost:8080/",
          "height": 996
        }
      },
      "outputs": [
        {
          "output_type": "stream",
          "name": "stdout",
          "text": [
            "(216, 32)\n"
          ]
        },
        {
          "output_type": "stream",
          "name": "stderr",
          "text": [
            "<ipython-input-9-1f1700c8f42f>:6: DeprecationWarning: scipy.hanning is deprecated and will be removed in SciPy 2.0.0, use numpy.hanning instead\n",
            "  w = scipy.hanning(fftsize + 1)[:-1]\n"
          ]
        },
        {
          "output_type": "execute_result",
          "data": {
            "text/plain": [
              "Text(0.5, 1.0, 'PSD of kiwi example')"
            ]
          },
          "metadata": {},
          "execution_count": 10
        },
        {
          "output_type": "display_data",
          "data": {
            "text/plain": [
              "<Figure size 640x480 with 1 Axes>"
            ],
            "image/png": "[encoded data removed]"
          },
          "metadata": {}
        },
        {
          "output_type": "display_data",
          "data": {
            "text/plain": [
              "<Figure size 640x480 with 1 Axes>"
            ],
            "image/png": "[encoded data removed]"
          },
          "metadata": {}
        }
      ],
      "source": [
        "import matplotlib.pyplot as plt\n",
        "plt.plot(data[0, :], color='steelblue')\n",
        "plt.title('Timeseries example for %s'%labels[0])\n",
        "plt.xlim(0, 3500)\n",
        "plt.xlabel('Time (samples)')\n",
        "plt.ylabel('Amplitude (signed 16 bit)')\n",
        "plt.figure()\n",
        "\n",
        "# + 1 to avoid log of 0\n",
        "log_freq = 20 * np.log(np.abs(stft(data[0, :])) + 1)\n",
        "print(log_freq.shape)\n",
        "plt.imshow(log_freq, cmap='gray', interpolation=None)\n",
        "plt.xlabel('Freq (bin)')\n",
        "plt.ylabel('Time (overlapped frames)')\n",
        "plt.ylim(log_freq.shape[1])\n",
        "plt.title('PSD of %s example'%labels[0])"
      ]
    },
    {
      "cell_type": "markdown",
      "metadata": {
        "id": "otk_Gj1VVl6I"
      },
      "source": [
        "Next, peak detection is applied to each FFT frame of every data file. In a [previous blog post](http://kastnerkyle.github.io/blog/2014/04/17/wavelets/), I described the use of wavelets for peak detection. Here, we will use a moving window to search for peaks instead. The primary steps to this algorithm are as follows:\n",
        "\n",
        "1. Create a data window of length X. In this example X=9, though any window size can be used.\n",
        "2. Split this window into 3 sections: left, center and right. For the 9 sample window, this will be LLLCCCRRR.\n",
        "3. Apply some function (mean, median, max, min, etc) over each section of the window.\n",
        "4. If the maximum value of the function over the center section is greater than the result for left or right, continue to the next check. Otherwise GOTO 6.\n",
        "5. If the maximum value for f(CCC) is in the very center of the window, you have found a peak! Mark it and continue. Otherwise, go to the next step.\n",
        "6. Shift the input data by one sample, and repeat the process. (data[0:9] -> data[1:10])\n",
        "7. Once all data has been processed, you should have some detected peaks. Sort them in descending order by amplitude, then output the top N peaks. In this case, N=6\n",
        "\n",
        "An implementation of this algorithm is shown below."
      ]
    },
    {
      "cell_type": "code",
      "execution_count": 11,
      "metadata": {
        "id": "xYGwKIKlVl6I"
      },
      "outputs": [],
      "source": [
        "from numpy.lib.stride_tricks import as_strided\n",
        "\n",
        "#Peak detection using the technique described here: http://kkjkok.blogspot.com/2013/12/dsp-snippets_9.html\n",
        "def peakfind(x, n_peaks, l_size=3, r_size=3, c_size=3, f=np.mean):\n",
        "    win_size = l_size + r_size + c_size\n",
        "    shape = x.shape[:-1] + (x.shape[-1] - win_size + 1, win_size)\n",
        "    strides = x.strides + (x.strides[-1],)\n",
        "    xs = as_strided(x, shape=shape, strides=strides)\n",
        "    def is_peak(x):\n",
        "        centered = (np.argmax(x) == l_size + int(c_size/2))\n",
        "        l = x[:l_size]\n",
        "        c = x[l_size:l_size + c_size]\n",
        "        r = x[-r_size:]\n",
        "        passes = np.max(c) > np.max([f(l), f(r)])\n",
        "        if centered and passes:\n",
        "            return np.max(c)\n",
        "        else:\n",
        "            return -1\n",
        "    r = np.apply_along_axis(is_peak, 1, xs)\n",
        "    top = np.argsort(r, None)[::-1]\n",
        "    heights = r[top[:n_peaks]]\n",
        "    #Add l_size and half - 1 of center size to get to actual peak location\n",
        "    top[top > -1] = top[top > -1] + l_size + int(c_size / 2.)\n",
        "    return heights, top[:n_peaks]"
      ]
    },
    {
      "cell_type": "code",
      "execution_count": 12,
      "metadata": {
        "id": "PYIydAmTVl6J",
        "outputId": "a087de5e-e084-475d-9632-cdebff552a58",
        "colab": {
          "base_uri": "https://localhost:8080/",
          "height": 524
        }
      },
      "outputs": [
        {
          "output_type": "stream",
          "name": "stderr",
          "text": [
            "<ipython-input-9-1f1700c8f42f>:6: DeprecationWarning: scipy.hanning is deprecated and will be removed in SciPy 2.0.0, use numpy.hanning instead\n",
            "  w = scipy.hanning(fftsize + 1)[:-1]\n"
          ]
        },
        {
          "output_type": "execute_result",
          "data": {
            "text/plain": [
              "Text(0, 0.5, 'Amplitude')"
            ]
          },
          "metadata": {},
          "execution_count": 12
        },
        {
          "output_type": "display_data",
          "data": {
            "text/plain": [
              "<Figure size 640x480 with 1 Axes>"
            ],
            "image/png": "[encoded data removed]"
          },
          "metadata": {}
        }
      ],
      "source": [
        "plot_data = np.abs(stft(data[20, :]))[15, :]\n",
        "values, locs = peakfind(plot_data, n_peaks=6)\n",
        "fp = locs[values > -1]\n",
        "fv = values[values > -1]\n",
        "plt.plot(plot_data, color='steelblue')\n",
        "plt.plot(fp, fv, 'x', color='darkred')\n",
        "plt.title('Peak location example')\n",
        "plt.xlabel('Frequency (bins)')\n",
        "plt.ylabel('Amplitude')"
      ]
    },
    {
      "cell_type": "markdown",
      "metadata": {
        "id": "jOYOZ-lDVl6J"
      },
      "source": [
        "The peak detector does an acceptable job in detecting peaks, though it is by no means perfect. One of the limiting factors here is the length of the FFT - this peak detector is currently searching over 9 sample chunks, which is very large when the FFT size is only 64 bins! Once again, this will have a negative impact on performance.\n",
        "\n",
        "We could set the FFT size larger, but in testing this algorithm longer FFT sizes appeared to do worse, even *with* higher overlap to maintain the same time resolution. Ultimately, this is where more advanced features would come into play."
      ]
    },
    {
      "cell_type": "code",
      "execution_count": 13,
      "metadata": {
        "id": "I7RvI2gFVl6J",
        "outputId": "8ae2e5ff-a6bc-4b0d-be9c-b9438cbd7c34",
        "colab": {
          "base_uri": "https://localhost:8080/"
        }
      },
      "outputs": [
        {
          "output_type": "stream",
          "name": "stderr",
          "text": [
            "<ipython-input-9-1f1700c8f42f>:6: DeprecationWarning: scipy.hanning is deprecated and will be removed in SciPy 2.0.0, use numpy.hanning instead\n",
            "  w = scipy.hanning(fftsize + 1)[:-1]\n"
          ]
        },
        {
          "output_type": "stream",
          "name": "stdout",
          "text": [
            "Processed obs 0\n",
            "Processed obs 10\n",
            "Processed obs 20\n",
            "Processed obs 30\n",
            "Processed obs 40\n",
            "Processed obs 50\n",
            "Processed obs 60\n",
            "Processed obs 70\n",
            "Processed obs 80\n",
            "Processed obs 90\n",
            "Processed obs 100\n"
          ]
        }
      ],
      "source": [
        "#This processing (top freq peaks) only works for single speaker case... need better features for multispeaker!\n",
        "#MFCC (or deep NN/automatic feature extraction) could be interesting\n",
        "all_obs = []\n",
        "for i in range(data.shape[0]):\n",
        "    d = np.abs(stft(data[i, :]))\n",
        "    n_dim = 6\n",
        "    obs = np.zeros((n_dim, d.shape[0]))\n",
        "    for r in range(d.shape[0]):\n",
        "        _, t = peakfind(d[r, :], n_peaks=n_dim)\n",
        "        obs[:, r] = t.copy()\n",
        "    if i % 10 == 0:\n",
        "        print(\"Processed obs %s\" % i)\n",
        "    all_obs.append(obs)\n",
        "\n",
        "all_obs = np.atleast_3d(all_obs)"
      ]
    },
    {
      "cell_type": "markdown",
      "metadata": {
        "id": "DUi7A78pVl6K"
      },
      "source": [
        "GMM-HMM Bop\n",
        "-----------\n",
        "\n",
        "An implementation of a GMM-HMM is shown below. This code is also available as a [gist](https://gist.github.com/kastnerkyle/75483d51641a0c03bf7c), and any improvements I make will show up there.\n",
        "\n",
        "This algorithm is fairly complex, and a good summary can be seen [here, Brown](http://cs.brown.edu/research/ai/dynamics/tutorial/Documents/HiddenMarkovModels.html) and [here, Moore](http://www.autonlab.org/tutorials/hmm.html). This implementation does *not* have any Viterbi backtracking - since my only interest (for now) is in speech classification, only Baum-Welch and Forward-Backward portions of the GMM-HMM are necessary.\n",
        "\n",
        "HMMs can do do three primary tasks:\n",
        "\n",
        "1. State Estimation $P(S | O)$ - can be useful *if* you have prior info about what states mean and create the state probabilities yourself.\n",
        "2. Path Estimation - given observations, what is the most likely \"state path\"? Not useful in our case, and not even implemented here!\n",
        "3. Maximum Likelihood Estimation $P(O | \\lambda)$ - learn the HMM parameters $\\lambda$ which maximize the probability of observations. This is the primary method we will use.\n",
        "\n",
        "To train the HMM, we use the Baum-Welch algorithm. There are many, many resources on this algorithm and I will not regurgitate here. Implementing this HMM was fairly tricky, and I highly recommend using a library unless you are interested in a \"learning experience\".\n",
        "\n",
        "This code uses requires scipy 0.14 for the multivariate_normal density."
      ]
    },
    {
      "cell_type": "code",
      "execution_count": 14,
      "metadata": {
        "id": "9v_IPBuxVl6K",
        "outputId": "3bfdb2fc-6bac-4eda-968f-eaddf73c6159",
        "colab": {
          "base_uri": "https://localhost:8080/"
        }
      },
      "outputs": [
        {
          "output_type": "stream",
          "name": "stdout",
          "text": [
            "Likelihoods for test set 1\n",
            "M1: 221.38828575112734\n",
            "M2: 165.27280230776495\n",
            "Prediction for test set 1\n",
            "Model 1\n",
            "\n",
            "Likelihoods for test set 2\n",
            "M1: 33.19459421485196\n",
            "M2: 59.152747530529986\n",
            "Prediction for test set 2\n",
            "Model 2\n"
          ]
        }
      ],
      "source": [
        "import scipy.stats as st\n",
        "import numpy as np\n",
        "\n",
        "class gmmhmm:\n",
        "    #This class converted with modifications from https://code.google.com/p/hmm-speech-recognition/source/browse/Word.m\n",
        "    def __init__(self, n_states):\n",
        "        self.n_states = n_states\n",
        "        self.random_state = np.random.RandomState(0)\n",
        "\n",
        "        #Normalize random initial state\n",
        "        self.prior = self._normalize(self.random_state.rand(self.n_states, 1))\n",
        "        self.A = self._stochasticize(self.random_state.rand(self.n_states, self.n_states))\n",
        "\n",
        "        self.mu = None\n",
        "        self.covs = None\n",
        "        self.n_dims = None\n",
        "\n",
        "    def _forward(self, B):\n",
        "        log_likelihood = 0.\n",
        "        T = B.shape[1]\n",
        "        alpha = np.zeros(B.shape)\n",
        "        for t in range(T):\n",
        "            if t == 0:\n",
        "                alpha[:, t] = B[:, t] * self.prior.ravel()\n",
        "            else:\n",
        "                alpha[:, t] = B[:, t] * np.dot(self.A.T, alpha[:, t - 1])\n",
        "\n",
        "            alpha_sum = np.sum(alpha[:, t])\n",
        "            alpha[:, t] /= alpha_sum\n",
        "            log_likelihood = log_likelihood + np.log(alpha_sum)\n",
        "        return log_likelihood, alpha\n",
        "\n",
        "    def _backward(self, B):\n",
        "        T = B.shape[1]\n",
        "        beta = np.zeros(B.shape);\n",
        "\n",
        "        beta[:, -1] = np.ones(B.shape[0])\n",
        "\n",
        "        for t in range(T - 1)[::-1]:\n",
        "            beta[:, t] = np.dot(self.A, (B[:, t + 1] * beta[:, t + 1]))\n",
        "            beta[:, t] /= np.sum(beta[:, t])\n",
        "        return beta\n",
        "\n",
        "    def _state_likelihood(self, obs):\n",
        "        obs = np.atleast_2d(obs)\n",
        "        B = np.zeros((self.n_states, obs.shape[1]))\n",
        "        for s in range(self.n_states):\n",
        "            #Needs scipy 0.14\n",
        "            np.random.seed(self.random_state.randint(1))\n",
        "            B[s, :] = st.multivariate_normal.pdf(\n",
        "                obs.T, mean=self.mu[:, s].T, cov=self.covs[:, :, s].T)\n",
        "            #This function can (and will!) return values >> 1\n",
        "            #See the discussion here for the equivalent matlab function\n",
        "            #https://groups.google.com/forum/#!topic/comp.soft-sys.matlab/YksWK0T74Ak\n",
        "            #Key line: \"Probabilities have to be less than 1,\n",
        "            #Densities can be anything, even infinite (at individual points).\"\n",
        "            #This is evaluating the density at individual points...\n",
        "        return B\n",
        "\n",
        "    def _normalize(self, x):\n",
        "        return (x + (x == 0)) / np.sum(x)\n",
        "\n",
        "    def _stochasticize(self, x):\n",
        "        return (x + (x == 0)) / np.sum(x, axis=1)\n",
        "\n",
        "    def _em_init(self, obs):\n",
        "        #Using this _em_init function allows for less required constructor args\n",
        "        if self.n_dims is None:\n",
        "            self.n_dims = obs.shape[0]\n",
        "        if self.mu is None:\n",
        "            subset = self.random_state.choice(np.arange(self.n_dims), size=self.n_states, replace=False)\n",
        "            self.mu = obs[:, subset]\n",
        "        if self.covs is None:\n",
        "            self.covs = np.zeros((self.n_dims, self.n_dims, self.n_states))\n",
        "            self.covs += np.diag(np.diag(np.cov(obs)))[:, :, None]\n",
        "        return self\n",
        "\n",
        "    def _em_step(self, obs):\n",
        "        obs = np.atleast_2d(obs)\n",
        "        B = self._state_likelihood(obs)\n",
        "        T = obs.shape[1]\n",
        "\n",
        "        log_likelihood, alpha = self._forward(B)\n",
        "        beta = self._backward(B)\n",
        "\n",
        "        xi_sum = np.zeros((self.n_states, self.n_states))\n",
        "        gamma = np.zeros((self.n_states, T))\n",
        "\n",
        "        for t in range(T - 1):\n",
        "            partial_sum = self.A * np.dot(alpha[:, t], (beta[:, t] * B[:, t + 1]).T)\n",
        "            xi_sum += self._normalize(partial_sum)\n",
        "            partial_g = alpha[:, t] * beta[:, t]\n",
        "            gamma[:, t] = self._normalize(partial_g)\n",
        "\n",
        "        partial_g = alpha[:, -1] * beta[:, -1]\n",
        "        gamma[:, -1] = self._normalize(partial_g)\n",
        "\n",
        "        expected_prior = gamma[:, 0]\n",
        "        expected_A = self._stochasticize(xi_sum)\n",
        "\n",
        "        expected_mu = np.zeros((self.n_dims, self.n_states))\n",
        "        expected_covs = np.zeros((self.n_dims, self.n_dims, self.n_states))\n",
        "\n",
        "        gamma_state_sum = np.sum(gamma, axis=1)\n",
        "        #Set zeros to 1 before dividing\n",
        "        gamma_state_sum = gamma_state_sum + (gamma_state_sum == 0)\n",
        "\n",
        "        for s in range(self.n_states):\n",
        "            gamma_obs = obs * gamma[s, :]\n",
        "            expected_mu[:, s] = np.sum(gamma_obs, axis=1) / gamma_state_sum[s]\n",
        "            partial_covs = np.dot(gamma_obs, obs.T) / gamma_state_sum[s] - np.dot(expected_mu[:, s], expected_mu[:, s].T)\n",
        "            #Symmetrize\n",
        "            partial_covs = np.triu(partial_covs) + np.triu(partial_covs).T - np.diag(partial_covs)\n",
        "\n",
        "        #Ensure positive semidefinite by adding diagonal loading\n",
        "        expected_covs += .01 * np.eye(self.n_dims)[:, :, None]\n",
        "\n",
        "        self.prior = expected_prior\n",
        "        self.mu = expected_mu\n",
        "        self.covs = expected_covs\n",
        "        self.A = expected_A\n",
        "        return log_likelihood\n",
        "\n",
        "    def fit(self, obs, n_iter=15):\n",
        "        #Support for 2D and 3D arrays\n",
        "        #2D should be n_features, n_dims\n",
        "        #3D should be n_examples, n_features, n_dims\n",
        "        #For example, with 6 features per speech segment, 105 different words\n",
        "        #this array should be size\n",
        "        #(105, 6, X) where X is the number of frames with features extracted\n",
        "        #For a single example file, the array should be size (6, X)\n",
        "        if len(obs.shape) == 2:\n",
        "            for i in range(n_iter):\n",
        "                self._em_init(obs)\n",
        "                log_likelihood = self._em_step(obs)\n",
        "        elif len(obs.shape) == 3:\n",
        "            count = obs.shape[0]\n",
        "            for n in range(count):\n",
        "                for i in range(n_iter):\n",
        "                    self._em_init(obs[n, :, :])\n",
        "                    log_likelihood = self._em_step(obs[n, :, :])\n",
        "        return self\n",
        "\n",
        "    def transform(self, obs):\n",
        "        #Support for 2D and 3D arrays\n",
        "        #2D should be n_features, n_dims\n",
        "        #3D should be n_examples, n_features, n_dims\n",
        "        #For example, with 6 features per speech segment, 105 different words\n",
        "        #this array should be size\n",
        "        #(105, 6, X) where X is the number of frames with features extracted\n",
        "        #For a single example file, the array should be size (6, X)\n",
        "        if len(obs.shape) == 2:\n",
        "            B = self._state_likelihood(obs)\n",
        "            log_likelihood, _ = self._forward(B)\n",
        "            return log_likelihood\n",
        "        elif len(obs.shape) == 3:\n",
        "            count = obs.shape[0]\n",
        "            out = np.zeros((count,))\n",
        "            for n in range(count):\n",
        "                B = self._state_likelihood(obs[n, :, :])\n",
        "                log_likelihood, _ = self._forward(B)\n",
        "                out[n] = log_likelihood\n",
        "            return out\n",
        "\n",
        "if __name__ == \"__main__\":\n",
        "    rstate = np.random.RandomState(0)\n",
        "    t1 = np.ones((4, 40)) + .001 * rstate.rand(4, 40)\n",
        "    t1 /= t1.sum(axis=0)\n",
        "    t2 = rstate.rand(*t1.shape)\n",
        "    t2 /= t2.sum(axis=0)\n",
        "\n",
        "    m1 = gmmhmm(2)\n",
        "    m1.fit(t1)\n",
        "    m2 = gmmhmm(2)\n",
        "    m2.fit(t2)\n",
        "\n",
        "    m1t1 = m1.transform(t1)\n",
        "    m2t1 = m2.transform(t1)\n",
        "    print(\"Likelihoods for test set 1\")\n",
        "    print(\"M1:\", m1t1)\n",
        "    print(\"M2:\", m2t1)\n",
        "    print(\"Prediction for test set 1\")\n",
        "    print(\"Model\", np.argmax([m1t1, m2t1]) + 1)\n",
        "    print()\n",
        "\n",
        "    m1t2 = m1.transform(t2)\n",
        "    m2t2 = m2.transform(t2)\n",
        "    print(\"Likelihoods for test set 2\")\n",
        "    print(\"M1:\", m1t2)\n",
        "    print(\"M2:\", m2t2)\n",
        "    print(\"Prediction for test set 2\")\n",
        "    print(\"Model\", np.argmax([m1t2, m2t2]) + 1)"
      ]
    },
    {
      "cell_type": "markdown",
      "metadata": {
        "id": "Y2mnvLViVl6L"
      },
      "source": [
        "Still Peaking\n",
        "-------------\n",
        "\n",
        "Once the peaks are detected for each frame, we have a 3 dimensional numpy array of size [numdatafiles, numpeaks, numframes] - in this case [105, 6, 216]. It is important that the observations be normalized in order to form probabilities, since the HMM expects to be trained on state probabilities. What does this mean?\n",
        "\n",
        "For each sample, we have extracted a number of frames over time, and each frame has its own set of peaks. We divide each frame by the sum of all peaks in the frame (axis 0 of all_obs[n], or axis 1 of all_obs), and form a \"state probability\" for each frame in our dataset. In essence, we are creating 6 states, where the highest peak in a frame is state 1, second highest state 2, etc. for each FFT frame.\n",
        "\n",
        "This representation shows the \"spread\" of the peaks - if all the peaks are close together, each one will have about the same probability, while peaks that are in a more unique distribution should take on a more unique fingerprint. An extreme case would be 3 low frequency peaks, and 3 high - this would result in very low state probabilities for the low frequency peaks, and very high state probabilities for the high frequency peaks. Since the HMM attempts to learn transition probabilities between frames, this is a decent way to represent speech for HMMs."
      ]
    },
    {
      "cell_type": "code",
      "execution_count": 18,
      "metadata": {
        "id": "BFDaeENWVl6L",
        "outputId": "9e5b2499-ffed-40ef-af50-180db628a0c3",
        "colab": {
          "base_uri": "https://localhost:8080/"
        }
      },
      "outputs": [
        {
          "output_type": "stream",
          "name": "stdout",
          "text": [
            "Size of training matrix: (94, 6, 216)\n",
            "Size of testing matrix: (11, 6, 216)\n"
          ]
        }
      ],
      "source": [
        "from sklearn.model_selection import StratifiedShuffleSplit\n",
        "sss = StratifiedShuffleSplit(test_size=0.1, random_state=0)\n",
        "\n",
        "for n,i in enumerate(all_obs):\n",
        "    all_obs[n] /= all_obs[n].sum(axis=0)\n",
        "\n",
        "for train_index, test_index in sss.split(all_obs, all_labels):\n",
        "    X_train, X_test = all_obs[train_index, ...], all_obs[test_index, ...]\n",
        "    y_train, y_test = all_labels[train_index], all_labels[test_index]\n",
        "print('Size of training matrix:', X_train.shape)\n",
        "print('Size of testing matrix:', X_test.shape)"
      ]
    },
    {
      "cell_type": "markdown",
      "metadata": {
        "id": "FIj246YvVl6L"
      },
      "source": [
        "To predict words, we need to train 7 separate GMM-HMM models, one for each word. We will then feed the features for a test sample into each, choosing the word associated with the GMM-HMM having the highest output likelihood. This maximum likelihood estimate is our best guess for what word was spoken."
      ]
    },
    {
      "cell_type": "code",
      "execution_count": 19,
      "metadata": {
        "id": "CPvVLPsHVl6L",
        "outputId": "def5e823-c159-485d-e740-208eca07e65d",
        "colab": {
          "base_uri": "https://localhost:8080/"
        }
      },
      "outputs": [
        {
          "output_type": "stream",
          "name": "stdout",
          "text": [
            "Test accuracy: 72.73 percent\n"
          ]
        }
      ],
      "source": [
        "ys = set(all_labels)\n",
        "ms = [gmmhmm(6) for y in ys]\n",
        "_ = [m.fit(X_train[y_train == y, :, :]) for m, y in zip(ms, ys)]\n",
        "ps = [m.transform(X_test) for m in ms]\n",
        "res = np.vstack(ps)\n",
        "predicted_labels = np.argmax(res, axis=0)\n",
        "missed = (predicted_labels != y_test)\n",
        "print('Test accuracy: %.2f percent' % (100 * (1 - np.mean(missed))))"
      ]
    },
    {
      "cell_type": "markdown",
      "metadata": {
        "id": "K3D1uwAUVl6L"
      },
      "source": [
        "It seems that this classifier does decently. Let's look at a confusion matrix for what words were incorrect, to see if there is any unusual pattern in the misclassifications."
      ]
    },
    {
      "cell_type": "code",
      "execution_count": 20,
      "metadata": {
        "id": "9EuSCOOIVl6M",
        "outputId": "5fe1f18d-5dff-428d-ac69-21826f03522c",
        "colab": {
          "base_uri": "https://localhost:8080/",
          "height": 566
        }
      },
      "outputs": [
        {
          "output_type": "stream",
          "name": "stderr",
          "text": [
            "<ipython-input-20-d7a918d2c203>:5: UserWarning: FixedFormatter should only be used together with FixedLocator\n",
            "  _ = ax.set_xticklabels([\" \"] + [l[:2] for l in spoken])\n",
            "<ipython-input-20-d7a918d2c203>:6: UserWarning: FixedFormatter should only be used together with FixedLocator\n",
            "  _ = ax.set_yticklabels([\" \"] + spoken)\n"
          ]
        },
        {
          "output_type": "execute_result",
          "data": {
            "text/plain": [
              "Text(0.5, 0, 'Predicted label')"
            ]
          },
          "metadata": {},
          "execution_count": 20
        },
        {
          "output_type": "display_data",
          "data": {
            "text/plain": [
              "<Figure size 480x480 with 1 Axes>"
            ],
            "image/png": "[encoded data removed]"
          },
          "metadata": {}
        }
      ],
      "source": [
        "from sklearn.metrics import confusion_matrix\n",
        "cm = confusion_matrix(y_test, predicted_labels)\n",
        "plt.matshow(cm, cmap='gray')\n",
        "ax = plt.gca()\n",
        "_ = ax.set_xticklabels([\" \"] + [l[:2] for l in spoken])\n",
        "_ = ax.set_yticklabels([\" \"] + spoken)\n",
        "plt.title('Confusion matrix, single speaker')\n",
        "plt.ylabel('True label')\n",
        "plt.xlabel('Predicted label')"
      ]
    },
    {
      "cell_type": "markdown",
      "metadata": {
        "id": "CIEykibgVl6M"
      },
      "source": [
        "Though the confusion matrix doesn't provide much insight, it is good to see a \"real\" example of using HMMs to do single speaker speech recognition."
      ]
    }
  ],
  "metadata": {
    "kernelspec": {
      "display_name": "Python 2",
      "language": "python",
      "name": "python2"
    },
    "language_info": {
      "codemirror_mode": {
        "name": "ipython",
        "version": 2
      },
      "file_extension": ".py",
      "mimetype": "text/x-python",
      "name": "python",
      "nbconvert_exporter": "python",
      "pygments_lexer": "ipython2",
      "version": "2.7.11"
    },
    "colab": {
      "provenance": []
    }
  },
  "nbformat": 4,
  "nbformat_minor": 0
}